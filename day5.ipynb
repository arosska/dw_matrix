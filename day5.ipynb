{
  "nbformat": 4,
  "nbformat_minor": 0,
  "metadata": {
    "colab": {
      "name": "day5.ipynb",
      "provenance": [],
      "collapsed_sections": [],
      "mount_file_id": "1LnUQUsKvb5xIC1kxK_qGWh1y7XznXtr5",
      "authorship_tag": "ABX9TyPFWA2u3uHl6own4LdBMT2c",
      "include_colab_link": true
    },
    "kernelspec": {
      "name": "python3",
      "display_name": "Python 3"
    },
    "widgets": {
      "application/vnd.jupyter.widget-state+json": {
        "ffe805d06660435fa883a29b574e7416": {
          "model_module": "@jupyter-widgets/controls",
          "model_name": "HBoxModel",
          "state": {
            "_view_name": "HBoxView",
            "_dom_classes": [],
            "_model_name": "HBoxModel",
            "_view_module": "@jupyter-widgets/controls",
            "_model_module_version": "1.5.0",
            "_view_count": null,
            "_view_module_version": "1.5.0",
            "box_style": "",
            "layout": "IPY_MODEL_c96e464d7cd14c12858194d607dea2c5",
            "_model_module": "@jupyter-widgets/controls",
            "children": [
              "IPY_MODEL_0019d0e34c2c4f0ca20983bd3c26b10c",
              "IPY_MODEL_adf949b78721498a84e2d00f9c8bf8aa"
            ]
          }
        },
        "c96e464d7cd14c12858194d607dea2c5": {
          "model_module": "@jupyter-widgets/base",
          "model_name": "LayoutModel",
          "state": {
            "_view_name": "LayoutView",
            "grid_template_rows": null,
            "right": null,
            "justify_content": null,
            "_view_module": "@jupyter-widgets/base",
            "overflow": null,
            "_model_module_version": "1.2.0",
            "_view_count": null,
            "flex_flow": null,
            "width": null,
            "min_width": null,
            "border": null,
            "align_items": null,
            "bottom": null,
            "_model_module": "@jupyter-widgets/base",
            "top": null,
            "grid_column": null,
            "overflow_y": null,
            "overflow_x": null,
            "grid_auto_flow": null,
            "grid_area": null,
            "grid_template_columns": null,
            "flex": null,
            "_model_name": "LayoutModel",
            "justify_items": null,
            "grid_row": null,
            "max_height": null,
            "align_content": null,
            "visibility": null,
            "align_self": null,
            "height": null,
            "min_height": null,
            "padding": null,
            "grid_auto_rows": null,
            "grid_gap": null,
            "max_width": null,
            "order": null,
            "_view_module_version": "1.2.0",
            "grid_template_areas": null,
            "object_position": null,
            "object_fit": null,
            "grid_auto_columns": null,
            "margin": null,
            "display": null,
            "left": null
          }
        },
        "0019d0e34c2c4f0ca20983bd3c26b10c": {
          "model_module": "@jupyter-widgets/controls",
          "model_name": "IntProgressModel",
          "state": {
            "_view_name": "ProgressView",
            "style": "IPY_MODEL_b54944ff862e4e9ca3b95d52c5e10890",
            "_dom_classes": [],
            "description": "",
            "_model_name": "IntProgressModel",
            "bar_style": "success",
            "max": 476,
            "_view_module": "@jupyter-widgets/controls",
            "_model_module_version": "1.5.0",
            "value": 476,
            "_view_count": null,
            "_view_module_version": "1.5.0",
            "orientation": "horizontal",
            "min": 0,
            "description_tooltip": null,
            "_model_module": "@jupyter-widgets/controls",
            "layout": "IPY_MODEL_d4eae3b7599448d585d1e55f72fb473f"
          }
        },
        "adf949b78721498a84e2d00f9c8bf8aa": {
          "model_module": "@jupyter-widgets/controls",
          "model_name": "HTMLModel",
          "state": {
            "_view_name": "HTMLView",
            "style": "IPY_MODEL_5e4cde180b6d484890620cb2b22aec31",
            "_dom_classes": [],
            "description": "",
            "_model_name": "HTMLModel",
            "placeholder": "​",
            "_view_module": "@jupyter-widgets/controls",
            "_model_module_version": "1.5.0",
            "value": "100% 476/476 [00:03&lt;00:00, 145.56it/s]",
            "_view_count": null,
            "_view_module_version": "1.5.0",
            "description_tooltip": null,
            "_model_module": "@jupyter-widgets/controls",
            "layout": "IPY_MODEL_8980ce39c967491084b15bf5f00f2f79"
          }
        },
        "b54944ff862e4e9ca3b95d52c5e10890": {
          "model_module": "@jupyter-widgets/controls",
          "model_name": "ProgressStyleModel",
          "state": {
            "_view_name": "StyleView",
            "_model_name": "ProgressStyleModel",
            "description_width": "",
            "_view_module": "@jupyter-widgets/base",
            "_model_module_version": "1.5.0",
            "_view_count": null,
            "_view_module_version": "1.2.0",
            "bar_color": null,
            "_model_module": "@jupyter-widgets/controls"
          }
        },
        "d4eae3b7599448d585d1e55f72fb473f": {
          "model_module": "@jupyter-widgets/base",
          "model_name": "LayoutModel",
          "state": {
            "_view_name": "LayoutView",
            "grid_template_rows": null,
            "right": null,
            "justify_content": null,
            "_view_module": "@jupyter-widgets/base",
            "overflow": null,
            "_model_module_version": "1.2.0",
            "_view_count": null,
            "flex_flow": null,
            "width": null,
            "min_width": null,
            "border": null,
            "align_items": null,
            "bottom": null,
            "_model_module": "@jupyter-widgets/base",
            "top": null,
            "grid_column": null,
            "overflow_y": null,
            "overflow_x": null,
            "grid_auto_flow": null,
            "grid_area": null,
            "grid_template_columns": null,
            "flex": null,
            "_model_name": "LayoutModel",
            "justify_items": null,
            "grid_row": null,
            "max_height": null,
            "align_content": null,
            "visibility": null,
            "align_self": null,
            "height": null,
            "min_height": null,
            "padding": null,
            "grid_auto_rows": null,
            "grid_gap": null,
            "max_width": null,
            "order": null,
            "_view_module_version": "1.2.0",
            "grid_template_areas": null,
            "object_position": null,
            "object_fit": null,
            "grid_auto_columns": null,
            "margin": null,
            "display": null,
            "left": null
          }
        },
        "5e4cde180b6d484890620cb2b22aec31": {
          "model_module": "@jupyter-widgets/controls",
          "model_name": "DescriptionStyleModel",
          "state": {
            "_view_name": "StyleView",
            "_model_name": "DescriptionStyleModel",
            "description_width": "",
            "_view_module": "@jupyter-widgets/base",
            "_model_module_version": "1.5.0",
            "_view_count": null,
            "_view_module_version": "1.2.0",
            "_model_module": "@jupyter-widgets/controls"
          }
        },
        "8980ce39c967491084b15bf5f00f2f79": {
          "model_module": "@jupyter-widgets/base",
          "model_name": "LayoutModel",
          "state": {
            "_view_name": "LayoutView",
            "grid_template_rows": null,
            "right": null,
            "justify_content": null,
            "_view_module": "@jupyter-widgets/base",
            "overflow": null,
            "_model_module_version": "1.2.0",
            "_view_count": null,
            "flex_flow": null,
            "width": null,
            "min_width": null,
            "border": null,
            "align_items": null,
            "bottom": null,
            "_model_module": "@jupyter-widgets/base",
            "top": null,
            "grid_column": null,
            "overflow_y": null,
            "overflow_x": null,
            "grid_auto_flow": null,
            "grid_area": null,
            "grid_template_columns": null,
            "flex": null,
            "_model_name": "LayoutModel",
            "justify_items": null,
            "grid_row": null,
            "max_height": null,
            "align_content": null,
            "visibility": null,
            "align_self": null,
            "height": null,
            "min_height": null,
            "padding": null,
            "grid_auto_rows": null,
            "grid_gap": null,
            "max_width": null,
            "order": null,
            "_view_module_version": "1.2.0",
            "grid_template_areas": null,
            "object_position": null,
            "object_fit": null,
            "grid_auto_columns": null,
            "margin": null,
            "display": null,
            "left": null
          }
        }
      }
    }
  },
  "cells": [
    {
      "cell_type": "markdown",
      "metadata": {
        "id": "view-in-github",
        "colab_type": "text"
      },
      "source": [
        "<a href=\"https://colab.research.google.com/github/rossann9119/dw_matrix/blob/master/day5.ipynb\" target=\"_parent\"><img src=\"https://colab.research.google.com/assets/colab-badge.svg\" alt=\"Open In Colab\"/></a>"
      ]
    },
    {
      "cell_type": "code",
      "metadata": {
        "id": "C-FWC5ljkNUj",
        "colab_type": "code",
        "outputId": "32d2545c-69c4-4d38-9e02-221f95079442",
        "colab": {
          "base_uri": "https://localhost:8080/",
          "height": 204
        }
      },
      "source": [
        "!pip install eli5"
      ],
      "execution_count": 154,
      "outputs": [
        {
          "output_type": "stream",
          "text": [
            "Requirement already satisfied: eli5 in /usr/local/lib/python3.6/dist-packages (0.10.1)\n",
            "Requirement already satisfied: tabulate>=0.7.7 in /usr/local/lib/python3.6/dist-packages (from eli5) (0.8.6)\n",
            "Requirement already satisfied: attrs>16.0.0 in /usr/local/lib/python3.6/dist-packages (from eli5) (19.3.0)\n",
            "Requirement already satisfied: scikit-learn>=0.18 in /usr/local/lib/python3.6/dist-packages (from eli5) (0.22.1)\n",
            "Requirement already satisfied: numpy>=1.9.0 in /usr/local/lib/python3.6/dist-packages (from eli5) (1.17.5)\n",
            "Requirement already satisfied: graphviz in /usr/local/lib/python3.6/dist-packages (from eli5) (0.10.1)\n",
            "Requirement already satisfied: scipy in /usr/local/lib/python3.6/dist-packages (from eli5) (1.4.1)\n",
            "Requirement already satisfied: six in /usr/local/lib/python3.6/dist-packages (from eli5) (1.12.0)\n",
            "Requirement already satisfied: jinja2 in /usr/local/lib/python3.6/dist-packages (from eli5) (2.11.1)\n",
            "Requirement already satisfied: joblib>=0.11 in /usr/local/lib/python3.6/dist-packages (from scikit-learn>=0.18->eli5) (0.14.1)\n",
            "Requirement already satisfied: MarkupSafe>=0.23 in /usr/local/lib/python3.6/dist-packages (from jinja2->eli5) (1.1.1)\n"
          ],
          "name": "stdout"
        }
      ]
    },
    {
      "cell_type": "code",
      "metadata": {
        "id": "BJ3K1J0Qkk0_",
        "colab_type": "code",
        "colab": {}
      },
      "source": [
        "import pandas as pd\n",
        "import numpy as np\n",
        "from sklearn.tree import DecisionTreeRegressor\n",
        "from sklearn.ensemble import RandomForestRegressor\n",
        "\n",
        "from sklearn.metrics import mean_absolute_error\n",
        "from sklearn.model_selection import cross_val_score\n",
        "\n",
        "import eli5\n",
        "from eli5.sklearn import PermutationImportance\n",
        "\n",
        "from ast import literal_eval\n",
        "from tqdm import tqdm_notebook"
      ],
      "execution_count": 0,
      "outputs": []
    },
    {
      "cell_type": "code",
      "metadata": {
        "id": "73rHJTxXlKb6",
        "colab_type": "code",
        "outputId": "f7ddc0ac-87b8-428a-80da-fce884d9c662",
        "colab": {
          "base_uri": "https://localhost:8080/",
          "height": 34
        }
      },
      "source": [
        "cd '/content/drive/My Drive/Colab Notebooks/dw_matrix'"
      ],
      "execution_count": 0,
      "outputs": [
        {
          "output_type": "stream",
          "text": [
            "/content/drive/My Drive/Colab Notebooks/dw_matrix\n"
          ],
          "name": "stdout"
        }
      ]
    },
    {
      "cell_type": "code",
      "metadata": {
        "id": "Bnxx-s59lTUF",
        "colab_type": "code",
        "outputId": "740ed95d-bbb7-43c2-a87c-dd7c98994e35",
        "colab": {
          "base_uri": "https://localhost:8080/",
          "height": 34
        }
      },
      "source": [
        "ls data"
      ],
      "execution_count": 0,
      "outputs": [
        {
          "output_type": "stream",
          "text": [
            "men_shoes.csv\n"
          ],
          "name": "stdout"
        }
      ]
    },
    {
      "cell_type": "code",
      "metadata": {
        "id": "nCAGxLIAlfpS",
        "colab_type": "code",
        "colab": {}
      },
      "source": [
        "df = pd.read_csv('data/men_shoes.csv', low_memory=False)"
      ],
      "execution_count": 0,
      "outputs": []
    },
    {
      "cell_type": "code",
      "metadata": {
        "id": "wQSQYAD-l09p",
        "colab_type": "code",
        "outputId": "bff0bd87-f892-4f36-f26c-3957f687de78",
        "colab": {
          "base_uri": "https://localhost:8080/",
          "height": 221
        }
      },
      "source": [
        "df.columns"
      ],
      "execution_count": 0,
      "outputs": [
        {
          "output_type": "execute_result",
          "data": {
            "text/plain": [
              "Index(['id', 'asins', 'brand', 'categories', 'colors', 'count', 'dateadded',\n",
              "       'dateupdated', 'descriptions', 'dimension', 'ean', 'features',\n",
              "       'flavors', 'imageurls', 'isbn', 'keys', 'manufacturer',\n",
              "       'manufacturernumber', 'merchants', 'name', 'prices_amountmin',\n",
              "       'prices_amountmax', 'prices_availability', 'prices_color',\n",
              "       'prices_condition', 'prices_count', 'prices_currency',\n",
              "       'prices_dateadded', 'prices_dateseen', 'prices_flavor', 'prices_issale',\n",
              "       'prices_merchant', 'prices_offer', 'prices_returnpolicy',\n",
              "       'prices_shipping', 'prices_size', 'prices_source', 'prices_sourceurls',\n",
              "       'prices_warranty', 'quantities', 'reviews', 'sizes', 'skus',\n",
              "       'sourceurls', 'upc', 'vin', 'websiteids', 'weight'],\n",
              "      dtype='object')"
            ]
          },
          "metadata": {
            "tags": []
          },
          "execution_count": 10
        }
      ]
    },
    {
      "cell_type": "code",
      "metadata": {
        "id": "1yrSzHw3l6Io",
        "colab_type": "code",
        "colab": {}
      },
      "source": [
        "def run_model(feats, model = DecisionTreeRegressor(max_depth=5)):\n",
        "  X = df[feats].values\n",
        "  y = df['prices_amountmin'].values\n",
        "\n",
        "  scores = cross_val_score(model, X, y, scoring='neg_mean_absolute_error')\n",
        "  return np.mean(scores), np.std(scores)"
      ],
      "execution_count": 0,
      "outputs": []
    },
    {
      "cell_type": "code",
      "metadata": {
        "id": "0ZCuDrESmlCZ",
        "colab_type": "code",
        "outputId": "d1568e4c-9931-469c-d087-2533d4ce8d5e",
        "colab": {
          "base_uri": "https://localhost:8080/",
          "height": 34
        }
      },
      "source": [
        "df['brand_cat'] = df['brand'].map(lambda x: str(x).lower()).factorize()[0]\n",
        "run_model(['brand_cat'])"
      ],
      "execution_count": 0,
      "outputs": [
        {
          "output_type": "execute_result",
          "data": {
            "text/plain": [
              "(-58.133398968282776, 4.206122611474276)"
            ]
          },
          "metadata": {
            "tags": []
          },
          "execution_count": 130
        }
      ]
    },
    {
      "cell_type": "code",
      "metadata": {
        "id": "sl82HvZQnBZF",
        "colab_type": "code",
        "outputId": "2507b0bd-a223-406a-c1aa-9096de29de42",
        "colab": {
          "base_uri": "https://localhost:8080/",
          "height": 34
        }
      },
      "source": [
        "model = RandomForestRegressor(max_depth=5, n_estimators=100, random_state=0)\n",
        "run_model(['brand_cat'], model)"
      ],
      "execution_count": 0,
      "outputs": [
        {
          "output_type": "execute_result",
          "data": {
            "text/plain": [
              "(-57.31783843165656, 4.181246596160967)"
            ]
          },
          "metadata": {
            "tags": []
          },
          "execution_count": 131
        }
      ]
    },
    {
      "cell_type": "code",
      "metadata": {
        "id": "btT9ZiJjnabo",
        "colab_type": "code",
        "outputId": "25268acb-d6f0-4115-98b2-b4e1f488ab4e",
        "colab": {
          "base_uri": "https://localhost:8080/",
          "height": 139
        }
      },
      "source": [
        "df.features.head().values"
      ],
      "execution_count": 0,
      "outputs": [
        {
          "output_type": "execute_result",
          "data": {
            "text/plain": [
              "array(['[{\"key\":\"Gender\",\"value\":[\"Men\"]},{\"key\":\"Shoe Size\",\"value\":[\"M\"]},{\"key\":\"Shoe Category\",\"value\":[\"Men\\'s Shoes\"]},{\"key\":\"Color\",\"value\":[\"Multicolor\"]},{\"key\":\"Manufacturer Part Number\",\"value\":[\"8190-W-NAVY-7.5\"]},{\"key\":\"Brand\",\"value\":[\"Josmo\"]}]',\n",
              "       '[{\"key\":\"Gender\",\"value\":[\"Men\"]},{\"key\":\"Shoe Size\",\"value\":[\"M\"]},{\"key\":\"Shoe Category\",\"value\":[\"Men\\'s Shoes\"]},{\"key\":\"Color\",\"value\":[\"Multicolor\"]},{\"key\":\"Manufacturer Part Number\",\"value\":[\"8190-W-NAVY-7.5\"]},{\"key\":\"Brand\",\"value\":[\"Josmo\"]}]',\n",
              "       '[{\"key\":\"Gender\",\"value\":[\"Men\"]},{\"key\":\"Color\",\"value\":[\"Black\"]},{\"key\":\"Shipping Weight (in pounds)\",\"value\":[\"0.45\"]},{\"key\":\"Condition\",\"value\":[\"New\"]},{\"key\":\"Brand\",\"value\":[\"SERVUS BY HONEYWELL\"]},{\"key\":\"manufacturer_part_number\",\"value\":[\"ZSR101BLMLG\"]}]',\n",
              "       '[{\"key\":\"Gender\",\"value\":[\"Men\"]},{\"key\":\"Color\",\"value\":[\"Black\"]},{\"key\":\"Shipping Weight (in pounds)\",\"value\":[\"0.45\"]},{\"key\":\"Condition\",\"value\":[\"New\"]},{\"key\":\"Brand\",\"value\":[\"SERVUS BY HONEYWELL\"]},{\"key\":\"manufacturer_part_number\",\"value\":[\"ZSR101BLMLG\"]}]',\n",
              "       '[{\"key\":\"Gender\",\"value\":[\"Men\"]},{\"key\":\"Color\",\"value\":[\"Black\"]},{\"key\":\"Shipping Weight (in pounds)\",\"value\":[\"0.45\"]},{\"key\":\"Condition\",\"value\":[\"New\"]},{\"key\":\"Brand\",\"value\":[\"SERVUS BY HONEYWELL\"]},{\"key\":\"manufacturer_part_number\",\"value\":[\"ZSR101BLMLG\"]}]'],\n",
              "      dtype=object)"
            ]
          },
          "metadata": {
            "tags": []
          },
          "execution_count": 132
        }
      ]
    },
    {
      "cell_type": "code",
      "metadata": {
        "id": "Z1coD9vloW1Q",
        "colab_type": "code",
        "outputId": "20579c8f-7f98-4f71-9cfe-be71ff79c362",
        "colab": {
          "base_uri": "https://localhost:8080/",
          "height": 34
        }
      },
      "source": [
        "test = {'key' : 'value'}\n",
        "test['key']\n",
        "\n",
        "str(test)"
      ],
      "execution_count": 0,
      "outputs": [
        {
          "output_type": "execute_result",
          "data": {
            "text/plain": [
              "\"{'key': 'value'}\""
            ]
          },
          "metadata": {
            "tags": []
          },
          "execution_count": 133
        }
      ]
    },
    {
      "cell_type": "code",
      "metadata": {
        "id": "3837KIMlS4zQ",
        "colab_type": "code",
        "outputId": "0f2aec24-01f4-4aa9-b52b-2b6c94a11170",
        "colab": {
          "base_uri": "https://localhost:8080/",
          "height": 119
        }
      },
      "source": [
        "str_dict = '[{\"key\":\"Gender\",\"value\":[\"Men\"]},{\"key\":\"Shoe Size\",\"value\":[\"M\"]},{\"key\":\"Shoe Category\",\"value\":[\"Men\\'s Shoes\"]},{\"key\":\"Color\",\"value\":[\"Multicolor\"]},{\"key\":\"Manufacturer Part Number\",\"value\":[\"8190-W-NAVY-7.5\"]},{\"key\":\"Brand\",\"value\":[\"Josmo\"]}]'\n",
        "\n",
        "literal_eval(str_dict)"
      ],
      "execution_count": 0,
      "outputs": [
        {
          "output_type": "execute_result",
          "data": {
            "text/plain": [
              "[{'key': 'Gender', 'value': ['Men']},\n",
              " {'key': 'Shoe Size', 'value': ['M']},\n",
              " {'key': 'Shoe Category', 'value': [\"Men's Shoes\"]},\n",
              " {'key': 'Color', 'value': ['Multicolor']},\n",
              " {'key': 'Manufacturer Part Number', 'value': ['8190-W-NAVY-7.5']},\n",
              " {'key': 'Brand', 'value': ['Josmo']}]"
            ]
          },
          "metadata": {
            "tags": []
          },
          "execution_count": 136
        }
      ]
    },
    {
      "cell_type": "code",
      "metadata": {
        "id": "9qWCxVvQOMAO",
        "colab_type": "code",
        "colab": {}
      },
      "source": [
        "def parse_features(x):\n",
        "  if str(x) == 'nan': return []\n",
        "  return literal_eval(x.replace('\\\\\"', '\"'))\n",
        "\n",
        "df['features_parsed'] = df['features'].map(parse_features)"
      ],
      "execution_count": 0,
      "outputs": []
    },
    {
      "cell_type": "code",
      "metadata": {
        "id": "smJUjW1XO_3H",
        "colab_type": "code",
        "outputId": "7ef3894c-fe9c-4d85-9061-090593beed00",
        "colab": {
          "base_uri": "https://localhost:8080/",
          "height": 119
        }
      },
      "source": [
        "df['features_parsed'].head()"
      ],
      "execution_count": 0,
      "outputs": [
        {
          "output_type": "execute_result",
          "data": {
            "text/plain": [
              "0    [{'key': 'Gender', 'value': ['Men']}, {'key': ...\n",
              "1    [{'key': 'Gender', 'value': ['Men']}, {'key': ...\n",
              "2    [{'key': 'Gender', 'value': ['Men']}, {'key': ...\n",
              "3    [{'key': 'Gender', 'value': ['Men']}, {'key': ...\n",
              "4    [{'key': 'Gender', 'value': ['Men']}, {'key': ...\n",
              "Name: features_parsed, dtype: object"
            ]
          },
          "metadata": {
            "tags": []
          },
          "execution_count": 121
        }
      ]
    },
    {
      "cell_type": "code",
      "metadata": {
        "id": "tJPCYXocPKmF",
        "colab_type": "code",
        "colab": {}
      },
      "source": [
        "def parse_features(x):\n",
        "  output_dict = {}\n",
        "  if str(x) == 'nan': return output_dict\n",
        "\n",
        "  features = literal_eval(x.replace('\\\\\"', '\"'))\n",
        "  for item in features:\n",
        "    key = item['key'].lower().strip()\n",
        "    value = item['value'][0].lower().strip()\n",
        "\n",
        "    output_dict[key] = value\n",
        "\n",
        "  return output_dict\n",
        "\n",
        "df['features_parsed'] = df['features'].map(parse_features)"
      ],
      "execution_count": 0,
      "outputs": []
    },
    {
      "cell_type": "code",
      "metadata": {
        "id": "6fV1B8xgQCFW",
        "colab_type": "code",
        "outputId": "e4052941-cf56-4169-d9d2-4eb3dfd97f61",
        "colab": {
          "base_uri": "https://localhost:8080/",
          "height": 139
        }
      },
      "source": [
        "df['features_parsed'].head().values"
      ],
      "execution_count": 0,
      "outputs": [
        {
          "output_type": "execute_result",
          "data": {
            "text/plain": [
              "array([{'gender': 'men', 'shoe size': 'm', 'shoe category': \"men's shoes\", 'color': 'multicolor', 'manufacturer part number': '8190-w-navy-7.5', 'brand': 'josmo'},\n",
              "       {'gender': 'men', 'shoe size': 'm', 'shoe category': \"men's shoes\", 'color': 'multicolor', 'manufacturer part number': '8190-w-navy-7.5', 'brand': 'josmo'},\n",
              "       {'gender': 'men', 'color': 'black', 'shipping weight (in pounds)': '0.45', 'condition': 'new', 'brand': 'servus by honeywell', 'manufacturer_part_number': 'zsr101blmlg'},\n",
              "       {'gender': 'men', 'color': 'black', 'shipping weight (in pounds)': '0.45', 'condition': 'new', 'brand': 'servus by honeywell', 'manufacturer_part_number': 'zsr101blmlg'},\n",
              "       {'gender': 'men', 'color': 'black', 'shipping weight (in pounds)': '0.45', 'condition': 'new', 'brand': 'servus by honeywell', 'manufacturer_part_number': 'zsr101blmlg'}],\n",
              "      dtype=object)"
            ]
          },
          "metadata": {
            "tags": []
          },
          "execution_count": 138
        }
      ]
    },
    {
      "cell_type": "code",
      "metadata": {
        "id": "hpFTaR1gQJ_F",
        "colab_type": "code",
        "outputId": "9f75b425-c059-4336-b02e-293a7335aeaf",
        "colab": {
          "base_uri": "https://localhost:8080/",
          "height": 34
        }
      },
      "source": [
        "keys = set()\n",
        "\n",
        "df['features_parsed'].map( lambda x: keys.update(x.keys()) )\n",
        "\n",
        "len(keys)"
      ],
      "execution_count": 0,
      "outputs": [
        {
          "output_type": "execute_result",
          "data": {
            "text/plain": [
              "476"
            ]
          },
          "metadata": {
            "tags": []
          },
          "execution_count": 139
        }
      ]
    },
    {
      "cell_type": "code",
      "metadata": {
        "id": "S8J2kFJ6QwX8",
        "colab_type": "code",
        "outputId": "a9e6a6b3-428b-4023-bd0f-e1d845d20450",
        "colab": {
          "base_uri": "https://localhost:8080/",
          "height": 66,
          "referenced_widgets": [
            "ffe805d06660435fa883a29b574e7416",
            "c96e464d7cd14c12858194d607dea2c5",
            "0019d0e34c2c4f0ca20983bd3c26b10c",
            "adf949b78721498a84e2d00f9c8bf8aa",
            "b54944ff862e4e9ca3b95d52c5e10890",
            "d4eae3b7599448d585d1e55f72fb473f",
            "5e4cde180b6d484890620cb2b22aec31",
            "8980ce39c967491084b15bf5f00f2f79"
          ]
        }
      },
      "source": [
        "def get_name_feat(key):\n",
        "  return 'feat_' + key\n",
        "\n",
        "for key in tqdm_notebook(keys):\n",
        "  df[get_name_feat(key)] = df.features_parsed.map(lambda feats: feats[key] if key in feats else np.nan )"
      ],
      "execution_count": 0,
      "outputs": [
        {
          "output_type": "display_data",
          "data": {
            "application/vnd.jupyter.widget-view+json": {
              "model_id": "ffe805d06660435fa883a29b574e7416",
              "version_minor": 0,
              "version_major": 2
            },
            "text/plain": [
              "HBox(children=(IntProgress(value=0, max=476), HTML(value='')))"
            ]
          },
          "metadata": {
            "tags": []
          }
        },
        {
          "output_type": "stream",
          "text": [
            "\n"
          ],
          "name": "stdout"
        }
      ]
    },
    {
      "cell_type": "code",
      "metadata": {
        "id": "K5PaT0XAR2IB",
        "colab_type": "code",
        "outputId": "212c8b9d-18e7-46e1-926b-289828b6670e",
        "colab": {
          "base_uri": "https://localhost:8080/",
          "height": 153
        }
      },
      "source": [
        ""
      ],
      "execution_count": 0,
      "outputs": [
        {
          "output_type": "execute_result",
          "data": {
            "text/plain": [
              "Index(['id', 'asins', 'brand', 'categories', 'colors', 'count', 'dateadded',\n",
              "       'dateupdated', 'descriptions', 'dimension',\n",
              "       ...\n",
              "       'feat_ring size_cat', 'feat_subdial_cat', 'feat_shoe category_cat',\n",
              "       'feat_pronation_cat', 'feat_adidas_cat', 'feat_frame color_cat',\n",
              "       'feat_is waterproof_cat', 'feat_sleeve style_cat',\n",
              "       'feat_motion control_cat', 'feat_shape_cat'],\n",
              "      dtype='object', length=1002)"
            ]
          },
          "metadata": {
            "tags": []
          },
          "execution_count": 142
        }
      ]
    },
    {
      "cell_type": "code",
      "metadata": {
        "id": "qCI_b9zqRnpR",
        "colab_type": "code",
        "colab": {}
      },
      "source": [
        "keys_stat = {}\n",
        "for key in keys:\n",
        "  keys_stat[key] = df[ False == df[get_name_feat(key)].isnull()].shape[0] / df.shape[0] * 100"
      ],
      "execution_count": 0,
      "outputs": []
    },
    {
      "cell_type": "code",
      "metadata": {
        "id": "59VqvYX8VEsy",
        "colab_type": "code",
        "outputId": "85691ae3-0ea3-49cd-de60-3ad83a56e9a6",
        "colab": {
          "base_uri": "https://localhost:8080/",
          "height": 102
        }
      },
      "source": [
        "{k:v for k,v in keys_stat.items() if v > 30}"
      ],
      "execution_count": 0,
      "outputs": [
        {
          "output_type": "execute_result",
          "data": {
            "text/plain": [
              "{'brand': 48.62691466083151,\n",
              " 'color': 47.784463894967175,\n",
              " 'gender': 50.17505470459519,\n",
              " 'manufacturer part number': 36.252735229759296,\n",
              " 'material': 34.9070021881838}"
            ]
          },
          "metadata": {
            "tags": []
          },
          "execution_count": 153
        }
      ]
    },
    {
      "cell_type": "code",
      "metadata": {
        "id": "v8paixDxXFAu",
        "colab_type": "code",
        "colab": {}
      },
      "source": [
        "df['feat_brand_cat'] = df['feat_brand'].factorize()[0]\n",
        "df['feat_color_cat'] = df['feat_color'].factorize()[0]\n",
        "df['feat_gender_cat'] = df['feat_gender'].factorize()[0]\n",
        "df['feat_manufacturer part number_cat'] = df['feat_manufacturer part number'].factorize()[0]\n",
        "df['feat_material_cat'] = df['feat_material'].factorize()[0]\n",
        "\n",
        "df['feat_sport_cat'] = df['feat_sport'].factorize()[0]\n",
        "df['feat_style_cat'] = df['feat_style'].factorize()[0]\n",
        "\n",
        "for key in keys:\n",
        "  df[get_name_feat(key) + '_cat'] = df[get_name_feat(key)].factorize()[0]\n"
      ],
      "execution_count": 0,
      "outputs": []
    },
    {
      "cell_type": "code",
      "metadata": {
        "id": "zgUdwDmhXddr",
        "colab_type": "code",
        "colab": {
          "base_uri": "https://localhost:8080/",
          "height": 34
        },
        "outputId": "7d09b711-924b-4e18-ff13-b44512a6ee9d"
      },
      "source": [
        "df['brand'] = df['brand'].map(lambda x: str(x).lower())\n",
        "df[ df.brand == df.feat_brand ].shape "
      ],
      "execution_count": 161,
      "outputs": [
        {
          "output_type": "execute_result",
          "data": {
            "text/plain": [
              "(8846, 1002)"
            ]
          },
          "metadata": {
            "tags": []
          },
          "execution_count": 161
        }
      ]
    },
    {
      "cell_type": "code",
      "metadata": {
        "id": "crz-0lqsb6iL",
        "colab_type": "code",
        "colab": {}
      },
      "source": [
        "feats_cat = [x for x in df.columns if 'cat' in x]\n",
        "feats_cat"
      ],
      "execution_count": 0,
      "outputs": []
    },
    {
      "cell_type": "code",
      "metadata": {
        "id": "Avlh4mWJYgnG",
        "colab_type": "code",
        "colab": {}
      },
      "source": [
        "feats = ['brand_cat', 'feat_shape_cat', 'feat_brand_cat', 'feat_gender_cat', 'feat_material_cat', 'feat_style_cat', 'feat_sport_cat']\n",
        "#feats += []\n",
        "#feats = list(set(feats))\n",
        "\n",
        "model = RandomForestRegressor(max_depth=5, n_estimators=100)\n",
        "result = run_model(feats, model)"
      ],
      "execution_count": 0,
      "outputs": []
    },
    {
      "cell_type": "code",
      "metadata": {
        "id": "1SF2QTHUZcC_",
        "colab_type": "code",
        "colab": {
          "base_uri": "https://localhost:8080/",
          "height": 170
        },
        "outputId": "9121cee6-bf91-4c6f-8f29-3431b5e2b0f4"
      },
      "source": [
        "X = df[feats].values\n",
        "y = df['prices_amountmin'].values\n",
        "\n",
        "m = model = RandomForestRegressor(max_depth=5, n_estimators=100, random_state=0)\n",
        "m.fit(X, y)\n",
        "\n",
        "print(result)\n",
        "perm = PermutationImportance(m, random_state=1).fit(X, y);\n",
        "eli5.show_weights(perm, feature_names = feats)"
      ],
      "execution_count": 183,
      "outputs": [
        {
          "output_type": "stream",
          "text": [
            "(-57.158351087760636, 4.292704127290008)\n"
          ],
          "name": "stdout"
        },
        {
          "output_type": "execute_result",
          "data": {
            "text/html": [
              "\n",
              "    <style>\n",
              "    table.eli5-weights tr:hover {\n",
              "        filter: brightness(85%);\n",
              "    }\n",
              "</style>\n",
              "\n",
              "\n",
              "\n",
              "    \n",
              "\n",
              "    \n",
              "\n",
              "    \n",
              "\n",
              "    \n",
              "\n",
              "    \n",
              "\n",
              "    \n",
              "\n",
              "\n",
              "    \n",
              "\n",
              "    \n",
              "\n",
              "    \n",
              "\n",
              "    \n",
              "\n",
              "    \n",
              "\n",
              "    \n",
              "\n",
              "\n",
              "    \n",
              "\n",
              "    \n",
              "\n",
              "    \n",
              "\n",
              "    \n",
              "\n",
              "    \n",
              "        <table class=\"eli5-weights eli5-feature-importances\" style=\"border-collapse: collapse; border: none; margin-top: 0em; table-layout: auto;\">\n",
              "    <thead>\n",
              "    <tr style=\"border: none;\">\n",
              "        <th style=\"padding: 0 1em 0 0.5em; text-align: right; border: none;\">Weight</th>\n",
              "        <th style=\"padding: 0 0.5em 0 0.5em; text-align: left; border: none;\">Feature</th>\n",
              "    </tr>\n",
              "    </thead>\n",
              "    <tbody>\n",
              "    \n",
              "        <tr style=\"background-color: hsl(120, 100.00%, 80.00%); border: none;\">\n",
              "            <td style=\"padding: 0 1em 0 0.5em; text-align: right; border: none;\">\n",
              "                0.2617\n",
              "                \n",
              "                    &plusmn; 0.0108\n",
              "                \n",
              "            </td>\n",
              "            <td style=\"padding: 0 0.5em 0 0.5em; text-align: left; border: none;\">\n",
              "                brand_cat\n",
              "            </td>\n",
              "        </tr>\n",
              "    \n",
              "        <tr style=\"background-color: hsl(120, 100.00%, 89.30%); border: none;\">\n",
              "            <td style=\"padding: 0 1em 0 0.5em; text-align: right; border: none;\">\n",
              "                0.1071\n",
              "                \n",
              "                    &plusmn; 0.0145\n",
              "                \n",
              "            </td>\n",
              "            <td style=\"padding: 0 0.5em 0 0.5em; text-align: left; border: none;\">\n",
              "                feat_material_cat\n",
              "            </td>\n",
              "        </tr>\n",
              "    \n",
              "        <tr style=\"background-color: hsl(120, 100.00%, 96.26%); border: none;\">\n",
              "            <td style=\"padding: 0 1em 0 0.5em; text-align: right; border: none;\">\n",
              "                0.0239\n",
              "                \n",
              "                    &plusmn; 0.0034\n",
              "                \n",
              "            </td>\n",
              "            <td style=\"padding: 0 0.5em 0 0.5em; text-align: left; border: none;\">\n",
              "                feat_gender_cat\n",
              "            </td>\n",
              "        </tr>\n",
              "    \n",
              "        <tr style=\"background-color: hsl(120, 100.00%, 96.50%); border: none;\">\n",
              "            <td style=\"padding: 0 1em 0 0.5em; text-align: right; border: none;\">\n",
              "                0.0217\n",
              "                \n",
              "                    &plusmn; 0.0015\n",
              "                \n",
              "            </td>\n",
              "            <td style=\"padding: 0 0.5em 0 0.5em; text-align: left; border: none;\">\n",
              "                feat_brand_cat\n",
              "            </td>\n",
              "        </tr>\n",
              "    \n",
              "        <tr style=\"background-color: hsl(120, 100.00%, 97.49%); border: none;\">\n",
              "            <td style=\"padding: 0 1em 0 0.5em; text-align: right; border: none;\">\n",
              "                0.0135\n",
              "                \n",
              "                    &plusmn; 0.0008\n",
              "                \n",
              "            </td>\n",
              "            <td style=\"padding: 0 0.5em 0 0.5em; text-align: left; border: none;\">\n",
              "                feat_shape_cat\n",
              "            </td>\n",
              "        </tr>\n",
              "    \n",
              "        <tr style=\"background-color: hsl(120, 100.00%, 98.91%); border: none;\">\n",
              "            <td style=\"padding: 0 1em 0 0.5em; text-align: right; border: none;\">\n",
              "                0.0041\n",
              "                \n",
              "                    &plusmn; 0.0007\n",
              "                \n",
              "            </td>\n",
              "            <td style=\"padding: 0 0.5em 0 0.5em; text-align: left; border: none;\">\n",
              "                feat_style_cat\n",
              "            </td>\n",
              "        </tr>\n",
              "    \n",
              "        <tr style=\"background-color: hsl(120, 100.00%, 99.84%); border: none;\">\n",
              "            <td style=\"padding: 0 1em 0 0.5em; text-align: right; border: none;\">\n",
              "                0.0003\n",
              "                \n",
              "                    &plusmn; 0.0000\n",
              "                \n",
              "            </td>\n",
              "            <td style=\"padding: 0 0.5em 0 0.5em; text-align: left; border: none;\">\n",
              "                feat_sport_cat\n",
              "            </td>\n",
              "        </tr>\n",
              "    \n",
              "    \n",
              "    </tbody>\n",
              "</table>\n",
              "    \n",
              "\n",
              "    \n",
              "\n",
              "\n",
              "    \n",
              "\n",
              "    \n",
              "\n",
              "    \n",
              "\n",
              "    \n",
              "\n",
              "    \n",
              "\n",
              "    \n",
              "\n",
              "\n",
              "\n"
            ],
            "text/plain": [
              "<IPython.core.display.HTML object>"
            ]
          },
          "metadata": {
            "tags": []
          },
          "execution_count": 183
        }
      ]
    },
    {
      "cell_type": "code",
      "metadata": {
        "id": "aMx3A92NahEo",
        "colab_type": "code",
        "colab": {
          "base_uri": "https://localhost:8080/",
          "height": 221
        },
        "outputId": "5ba0aeb0-5b7b-4cc8-b00d-274b91788950"
      },
      "source": [
        "df['brand'].value_counts(normalize=True)"
      ],
      "execution_count": 171,
      "outputs": [
        {
          "output_type": "execute_result",
          "data": {
            "text/plain": [
              "nike                 0.097210\n",
              "puma                 0.033315\n",
              "ralph lauren         0.028775\n",
              "vans                 0.021116\n",
              "new balance          0.020295\n",
              "                       ...   \n",
              "ranger               0.000055\n",
              "wisconsin badgers    0.000055\n",
              "cubavera             0.000055\n",
              "fitflop.             0.000055\n",
              "wood n' stream       0.000055\n",
              "Name: brand, Length: 1732, dtype: float64"
            ]
          },
          "metadata": {
            "tags": []
          },
          "execution_count": 171
        }
      ]
    },
    {
      "cell_type": "code",
      "metadata": {
        "id": "CSDAtRtWaoOw",
        "colab_type": "code",
        "colab": {
          "base_uri": "https://localhost:8080/",
          "height": 102
        },
        "outputId": "5dd88acb-ba97-4938-90b5-fcf925697680"
      },
      "source": [
        "df[ df['brand'] == 'nike'].features_parsed.head().values"
      ],
      "execution_count": 172,
      "outputs": [
        {
          "output_type": "execute_result",
          "data": {
            "text/plain": [
              "array([{'sport': 'soccer', 'main color': 'orange', 'type': 'cleats', 'condition': 'new without box'},\n",
              "       {'sport': 'soccer', 'main color': 'orange', 'type': 'cleats', 'condition': 'new without box'},\n",
              "       {'sport': 'soccer', 'main color': 'orange', 'type': 'cleats', 'condition': 'new without box'},\n",
              "       {'style': 'athletic sneakers', 'condition': 'new with box'}, {}],\n",
              "      dtype=object)"
            ]
          },
          "metadata": {
            "tags": []
          },
          "execution_count": 172
        }
      ]
    },
    {
      "cell_type": "code",
      "metadata": {
        "id": "Lhb5iZMGdy6J",
        "colab_type": "code",
        "colab": {}
      },
      "source": [
        ""
      ],
      "execution_count": 0,
      "outputs": []
    }
  ]
}